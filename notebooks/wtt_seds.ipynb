{
 "cells": [
  {
   "cell_type": "markdown",
   "metadata": {},
   "source": [
    "# 6. WTT Stars Spectral Energy Distributions"
   ]
  },
  {
   "cell_type": "markdown",
   "metadata": {},
   "source": [
    "## 6.1. Notebook setup"
   ]
  },
  {
   "cell_type": "code",
   "execution_count": null,
   "metadata": {},
   "outputs": [],
   "source": [
    "import matplotlib as mpl\n",
    "import matplotlib.pyplot as plt\n",
    "import numpy as np"
   ]
  },
  {
   "cell_type": "markdown",
   "metadata": {},
   "source": [
    "## 6.2. <a href=\"https://www.dropbox.com/s/q6mdhemp1aymibb/wtt_seds.zip?dl=1\">Download data</a>"
   ]
  },
  {
   "cell_type": "markdown",
   "metadata": {},
   "source": [
    "Unzip the contents into a folder named <font color='green'>data</font> in the same level as the notebooks folder. The directory structure should end up looking like the following: \n",
    "```\n",
    "thermal-gs\n",
    "├── data\n",
    "│   ├── HD283572_data.txt\n",
    "│   ├── HD283572_Ipwr_models.txt\n",
    "│   ├── HD283572_Ith_models.txt\n",
    "│   ├── HD283572_Vpwr_models.txt\n",
    "│   ├── HD283572_Vth_models.txt\n",
    "│   ├── model_sed_freqs.txt\n",
    "│   ├── thermal-gs.mplstyle\n",
    "│   ├── V410Tau_data.txt\n",
    "│   ├── V410Tau_Ipwr_models.txt\n",
    "│   ├── V410Tau_Ith_models.txt\n",
    "│   ├── V410Tau_Vpwr_models.txt\n",
    "│   ├── V410Tau_Vth_models.txt\n",
    "│   ├── ...\n",
    "├── figures\n",
    "│   ├── HD283572_SED.pdf\n",
    "│   ├── HD283582_SED.png\n",
    "│   ├── V410Tau_SED.pdf\n",
    "│   ├── V410Tau_SED.png\n",
    "│   ├── ...\n",
    "├── notebooks\n",
    "│   ├── wtt_seds.ipynb\n",
    "│   ├── ...\n",
    ".\n",
    ".\n",
    "."
   ]
  },
  {
   "cell_type": "markdown",
   "metadata": {},
   "source": [
    "## 6.3. V410 Tau"
   ]
  },
  {
   "cell_type": "markdown",
   "metadata": {},
   "source": [
    "### 6.3.1. Load"
   ]
  },
  {
   "cell_type": "code",
   "execution_count": null,
   "metadata": {},
   "outputs": [],
   "source": [
    "freqs_model = np.loadtxt('../data/model_sed_freqs.txt').T\n",
    "Ipwr_models = np.loadtxt('../data/V410Tau_Ipwr_models.txt')\n",
    "Vpwr_models = np.loadtxt('../data/V410Tau_Vpwr_models.txt')\n",
    "Ith_models = np.loadtxt('../data/V410Tau_Ith_models.txt')\n",
    "Vth_models = np.loadtxt('../data/V410Tau_Vth_models.txt')\n",
    "freqs_obs, I_obs, sI_obs, V_obs, sV_obs = np.loadtxt('../data/V410Tau_data.txt', unpack=True)\n",
    "\n",
    "plt.style.use('../data/thermal-gs.mplstyle')"
   ]
  },
  {
   "cell_type": "markdown",
   "metadata": {},
   "source": [
    "### 6.3.2. Plot"
   ]
  },
  {
   "cell_type": "code",
   "execution_count": null,
   "metadata": {},
   "outputs": [],
   "source": [
    "fig,ax = plt.subplots(2, 1, figsize=(4, 6), sharex=True)\n",
    "fig.subplots_adjust(hspace=0.03, wspace=0.3)\n",
    "cmap = mpl.cm.get_cmap('Purples')\n",
    "\n",
    "# Stokes I  \n",
    "ax[0].set_ylabel('Stokes I (mJy)')\n",
    "ax[0].set_xlim(10, 50)\n",
    "ax[0].set_ylim(0.1, 2)\n",
    "\n",
    "ax[0].set_xscale('log')\n",
    "ax[0].set_yscale('log')\n",
    "ax[0].xaxis.set_major_formatter(mpl.ticker.FormatStrFormatter('%i'))\n",
    "ax[0].xaxis.set_minor_formatter(mpl.ticker.NullFormatter())\n",
    "ax[0].yaxis.set_major_formatter(mpl.ticker.FormatStrFormatter('%3.3g'))\n",
    "ax[0].yaxis.set_minor_formatter(mpl.ticker.NullFormatter())\n",
    "ax[0].xaxis.set_major_locator(mpl.ticker.LogLocator(base=10, numticks=5, subs=[1, 2, 3, 4, 5]))\n",
    "ax[0].xaxis.set_minor_locator(mpl.ticker.LogLocator(base=10, numticks=25, subs=np.arange(1, 25)*0.2))\n",
    "ax[0].yaxis.set_major_locator(mpl.ticker.LogLocator(base=10, numticks=5, subs=[0.2, 0.4, 0.6, 1]))\n",
    "ax[0].yaxis.set_minor_locator(mpl.ticker.LogLocator(base=10, numticks=20, subs=np.arange(1, 20)*0.05))\n",
    "ax[0].grid()\n",
    "\n",
    "for i in range(len(Ipwr_models)):\n",
    "    ax[0].plot(freqs_model, Ipwr_models[i]+Ith_models[i], color='black', alpha=0.1)\n",
    "    ax[0].plot(freqs_model, Ipwr_models[i], color='C0', alpha=0.1, label='Power-Law')\n",
    "    ax[0].plot(freqs_model, Ith_models[i], color='C1', alpha=0.1, label='Thermal')\n",
    "ax[0].errorbar(freqs_obs, I_obs, yerr=sI_obs, marker='o', color=cmap(0.75), linestyle='')\n",
    "\n",
    "# Stokes V/I\n",
    "ax[1].axhline(y=0, color='black')\n",
    "ax[1].set_xlabel('Frequency (GHz)')\n",
    "ax[1].set_ylabel('Stokes V/I')\n",
    "ax[1].set_ylim(0.05, -0.399)\n",
    "\n",
    "ax[1].set_xscale('log')\n",
    "ax[1].xaxis.set_major_formatter(mpl.ticker.ScalarFormatter())\n",
    "ax[1].xaxis.set_minor_formatter(mpl.ticker.NullFormatter())\n",
    "ax[1].yaxis.set_major_formatter(mpl.ticker.FormatStrFormatter('%3.3g'))\n",
    "ax[1].yaxis.set_minor_formatter(mpl.ticker.NullFormatter())\n",
    "ax[1].xaxis.set_major_locator(mpl.ticker.LogLocator(base=10, numticks=5, subs=[1, 2, 3, 4, 5]))\n",
    "ax[1].xaxis.set_minor_locator(mpl.ticker.LogLocator(base=10, numticks=25, subs=np.arange(1, 25)*0.2))\n",
    "ax[1].yaxis.set_major_locator(mpl.ticker.MultipleLocator(0.1))\n",
    "ax[1].yaxis.set_minor_locator(mpl.ticker.MultipleLocator(0.02))\n",
    "ax[1].grid()\n",
    "\n",
    "for i in range(len(Vpwr_models)):\n",
    "    ax[1].plot(freqs_model, (Vpwr_models[i]+Vth_models[i])/(Ipwr_models[i]+Ith_models[i]), color='black', alpha=0.1)\n",
    "ax[1].errorbar(freqs_obs, V_obs/I_obs, yerr=np.sqrt((sI_obs/I_obs)**2+(sV_obs/V_obs)**2)*np.abs(V_obs/I_obs), \n",
    "    marker='o', color=cmap(0.75), linestyle='')\n",
    "\n",
    "\n",
    "# Final setup\n",
    "handles,labels = ax[0].get_legend_handles_labels()\n",
    "by_label = dict(zip(labels, handles))\n",
    "legend = ax[0].legend(by_label.values(), by_label.keys(), loc='lower left')\n",
    "legend.legendHandles[0].set_alpha(1)\n",
    "legend.legendHandles[1].set_alpha(1)\n",
    "ax[0].text(22, 1.5, '(a) V410 Tau', fontsize=18) \n",
    "fig.set_facecolor('white')\n",
    "plt.savefig('../figures/V410Tau_SED.png', bbox_inches='tight')\n",
    "plt.savefig('../figures/V410Tau_SED.pdf', bbox_inches='tight')\n",
    "plt.show()"
   ]
  },
  {
   "cell_type": "markdown",
   "metadata": {},
   "source": [
    "## 6.4. HD 283572"
   ]
  },
  {
   "cell_type": "markdown",
   "metadata": {},
   "source": [
    "### Load"
   ]
  },
  {
   "cell_type": "code",
   "execution_count": null,
   "metadata": {},
   "outputs": [],
   "source": [
    "freqs_model = np.loadtxt('../data/model_sed_freqs.txt').T\n",
    "Ipwr_models = np.loadtxt('../data/HD283572_Ipwr_models.txt')\n",
    "Vpwr_models = np.loadtxt('../data/HD283572_Vpwr_models.txt')\n",
    "Ith_models = np.loadtxt('../data/HD283572_Ith_models.txt')\n",
    "Vth_models = np.loadtxt('../data/HD283572_Vth_models.txt')\n",
    "freqs_obs, I_obs, sI_obs, V_obs, sV_obs = np.loadtxt('../data/HD283572_data.txt', unpack=True)"
   ]
  },
  {
   "cell_type": "markdown",
   "metadata": {},
   "source": [
    "### Plot"
   ]
  },
  {
   "cell_type": "code",
   "execution_count": null,
   "metadata": {},
   "outputs": [],
   "source": [
    "fig,ax = plt.subplots(2, 1, figsize=(4, 6), sharex=True)\n",
    "fig.subplots_adjust(hspace=0.03, wspace=0.3)\n",
    "cmap = mpl.cm.get_cmap('Reds')\n",
    "\n",
    "# Stokes I  \n",
    "ax[0].set_ylabel('Stokes I (mJy)')\n",
    "ax[0].set_xlim(10, 50)\n",
    "ax[0].set_ylim(0.1, 3.5)\n",
    "\n",
    "ax[0].set_xscale('log')\n",
    "ax[0].set_yscale('log')\n",
    "ax[0].xaxis.set_major_formatter(mpl.ticker.FormatStrFormatter('%i'))\n",
    "ax[0].xaxis.set_minor_formatter(mpl.ticker.NullFormatter())\n",
    "ax[0].yaxis.set_major_formatter(mpl.ticker.FormatStrFormatter('%3.3g'))\n",
    "ax[0].yaxis.set_minor_formatter(mpl.ticker.NullFormatter())\n",
    "ax[0].xaxis.set_major_locator(mpl.ticker.LogLocator(base=10, numticks=5, subs=[1, 2, 3, 4, 5]))\n",
    "ax[0].xaxis.set_minor_locator(mpl.ticker.LogLocator(base=10, numticks=25, subs=np.arange(1, 25)*0.2))\n",
    "ax[0].yaxis.set_major_locator(mpl.ticker.LogLocator(base=10, numticks=5, subs=[0.2, 0.4, 0.6, 1]))\n",
    "ax[0].yaxis.set_minor_locator(mpl.ticker.LogLocator(base=10, numticks=30, subs=np.arange(1, 20)*0.05))\n",
    "ax[0].grid()\n",
    "\n",
    "for i in range(len(Ipwr_models)):\n",
    "    ax[0].plot(freqs_model, Ipwr_models[i]+Ith_models[i], color='black', alpha=0.1)\n",
    "    ax[0].plot(freqs_model, Ipwr_models[i], color='C0', alpha=0.1, label='Power-Law')\n",
    "    ax[0].plot(freqs_model, Ith_models[i], color='C1', alpha=0.1, label='Thermal')\n",
    "ax[0].errorbar(freqs_obs, I_obs, yerr=sI_obs, marker='o', color=cmap(0.75), linestyle='')\n",
    "\n",
    "# Stokes V/I\n",
    "ax[1].axhline(y=0, color='black')\n",
    "ax[1].set_xlabel('Frequency (GHz)')\n",
    "ax[1].set_ylabel('Stokes V/I')\n",
    "ax[1].set_ylim(-0.05, 0.35)\n",
    "\n",
    "ax[1].set_xscale('log')\n",
    "ax[1].xaxis.set_major_formatter(mpl.ticker.ScalarFormatter())\n",
    "ax[1].xaxis.set_minor_formatter(mpl.ticker.NullFormatter())\n",
    "ax[1].yaxis.set_major_formatter(mpl.ticker.FormatStrFormatter('%3.3g'))\n",
    "ax[1].yaxis.set_minor_formatter(mpl.ticker.NullFormatter())\n",
    "ax[1].xaxis.set_major_locator(mpl.ticker.LogLocator(base=10, numticks=5, subs=[1, 2, 3, 4, 5]))\n",
    "ax[1].xaxis.set_minor_locator(mpl.ticker.LogLocator(base=10, numticks=25, subs=np.arange(1, 25)*0.2))\n",
    "ax[1].yaxis.set_major_locator(mpl.ticker.MultipleLocator(0.1))\n",
    "ax[1].yaxis.set_minor_locator(mpl.ticker.MultipleLocator(0.02))\n",
    "ax[1].grid()\n",
    "\n",
    "for i in range(len(Vpwr_models)):\n",
    "    ax[1].plot(freqs_model, (Vpwr_models[i]+Vth_models[i])/(Ipwr_models[i]+Ith_models[i]), color='black', alpha=0.1)\n",
    "ax[1].errorbar(freqs_obs, V_obs/I_obs, yerr=np.sqrt((sI_obs/I_obs)**2+(sV_obs/V_obs)**2)*np.abs(V_obs/I_obs), \n",
    "    marker='o', color=cmap(0.75), linestyle='')\n",
    "\n",
    "# Final setup\n",
    "handles,labels = ax[0].get_legend_handles_labels()\n",
    "by_label = dict(zip(labels, handles))\n",
    "legend = ax[0].legend(by_label.values(), by_label.keys(), loc='lower left')\n",
    "legend.legendHandles[0].set_alpha(1)\n",
    "legend.legendHandles[1].set_alpha(1)\n",
    "ax[0].text(18.5, 2.5, '(b) HD 283572', fontsize=18) \n",
    "fig.set_facecolor('white')\n",
    "plt.savefig('../figures/HD283572_SED.png', bbox_inches='tight')\n",
    "plt.savefig('../figures/HD283572_SED.pdf', bbox_inches='tight')\n",
    "plt.show()"
   ]
  }
 ],
 "metadata": {
  "kernelspec": {
   "display_name": "Python 3.10.2 ('base')",
   "language": "python",
   "name": "python3"
  },
  "language_info": {
   "codemirror_mode": {
    "name": "ipython",
    "version": 3
   },
   "file_extension": ".py",
   "mimetype": "text/x-python",
   "name": "python",
   "nbconvert_exporter": "python",
   "pygments_lexer": "ipython3",
   "version": "3.10.2"
  },
  "orig_nbformat": 4,
  "vscode": {
   "interpreter": {
    "hash": "5cbe4671836038beb9fe799f77b559b51db17203b1eb4ddb0c8c4883751c931a"
   }
  }
 },
 "nbformat": 4,
 "nbformat_minor": 2
}
