{
 "cells": [
  {
   "cell_type": "markdown",
   "metadata": {},
   "source": [
    "# 3. RS CVn Stars Spectral Energy Distributions"
   ]
  },
  {
   "cell_type": "markdown",
   "metadata": {},
   "source": [
    "## 3.1. Notebook setup"
   ]
  },
  {
   "cell_type": "code",
   "execution_count": null,
   "metadata": {},
   "outputs": [],
   "source": [
    "import warnings\n",
    "import matplotlib as mpl\n",
    "import matplotlib.pyplot as plt\n",
    "import numpy as np"
   ]
  },
  {
   "cell_type": "markdown",
   "metadata": {},
   "source": [
    "## 3.2. <a href=\"https://www.dropbox.com/sh/hkkdw1pdpt76kfb/AACVh44utUvSsedKgkMG8UeJa?dl=0\">Download data</a>"
   ]
  },
  {
   "cell_type": "markdown",
   "metadata": {},
   "source": [
    "Unzip the contents into a folder named <font color='green'>data</font> in the same level as the notebooks folder. The directory structure should end up looking like the following: \n",
    "```\n",
    "thermal-gs\n",
    "├── data\n",
    "│   ├── HR1099_data.txt\n",
    "│   ├── HR1099_I_models.txt\n",
    "│   ├── HR1099_V_models.txt\n",
    "│   ├── model_sed_freqs.txt\n",
    "│   ├── thermal-gs.mplstyle\n",
    "│   ├── UXArietis_data.txt\n",
    "│   ├── UXArietis_I_models.txt\n",
    "│   ├── UXArietis_V_models.txt\n",
    "│   ├── ...\n",
    "├── figures\n",
    "│   ├── HR1099_SED.pdf\n",
    "│   ├── HR1099_SED.png\n",
    "│   ├── UXArietis_SED.pdf\n",
    "│   ├── UXArietis_SED.png\n",
    "│   ├── ...\n",
    "├── notebooks\n",
    "│   ├── rs-cvn_seds.ipynb\n",
    "│   ├── ...\n",
    ".\n",
    ".\n",
    "."
   ]
  },
  {
   "cell_type": "markdown",
   "metadata": {},
   "source": [
    "## 3.3. Load"
   ]
  },
  {
   "cell_type": "code",
   "execution_count": null,
   "metadata": {},
   "outputs": [],
   "source": [
    "freqs_model = np.loadtxt('../data/model_sed_freqs.txt').T\n",
    "HR_I_models = np.loadtxt('../data/HR1099_I_models.txt')\n",
    "HR_V_models = np.loadtxt('../data/HR1099_V_models.txt')\n",
    "freqs_obs, HR_I_obs, HR_sI_obs, HR_V_obs, HR_sV_obs = np.loadtxt('../data/HR1099_data.txt', unpack=True)\n",
    "\n",
    "UX_I_models = np.loadtxt('../data/UXArietis_I_models.txt')\n",
    "UX_V_models = np.loadtxt('../data/UXArietis_V_models.txt')\n",
    "freqs_obs, UX_I_obs, UX_sI_obs, UX_V_obs, UX_sV_obs = np.loadtxt('../data/UXArietis_data.txt', unpack=True)\n",
    "\n",
    "plt.style.use('../data/thermal-gs.mplstyle')"
   ]
  },
  {
   "cell_type": "markdown",
   "metadata": {},
   "source": [
    "### 3.4. Plot"
   ]
  },
  {
   "cell_type": "code",
   "execution_count": null,
   "metadata": {},
   "outputs": [],
   "source": [
    "fig,ax = plt.subplots(2, 2, figsize=(8, 4), sharex=True)\n",
    "fig.subplots_adjust(hspace=0.03, wspace=0.2)\n",
    "\n",
    "# HR 1099\n",
    "cmap = mpl.cm.get_cmap('Blues')\n",
    "\n",
    "# Stokes I  \n",
    "ax[0][0].set_ylabel('Stokes I [mJy]')\n",
    "ax[0][0].set_xlim(10, 50)\n",
    "ax[0][0].set_ylim(5.01, 30)\n",
    "\n",
    "ax[0][0].set_xscale('log')\n",
    "ax[0][0].set_yscale('log')\n",
    "ax[0][0].xaxis.set_major_formatter(mpl.ticker.FormatStrFormatter('%i'))\n",
    "ax[0][0].xaxis.set_minor_formatter(mpl.ticker.NullFormatter())\n",
    "ax[0][0].yaxis.set_major_formatter(mpl.ticker.FormatStrFormatter('%3.3g'))\n",
    "ax[0][0].yaxis.set_minor_formatter(mpl.ticker.NullFormatter())\n",
    "ax[0][0].xaxis.set_major_locator(mpl.ticker.LogLocator(base=10, numticks=5, subs=[1, 2, 3, 4, 5]))\n",
    "ax[0][0].xaxis.set_minor_locator(mpl.ticker.LogLocator(base=10, numticks=25, subs=np.arange(1, 25)*0.2))\n",
    "ax[0][0].yaxis.set_major_locator(mpl.ticker.LogLocator(base=10, numticks=3, subs=[1, 2, 3, 4, 5]))\n",
    "ax[0][0].yaxis.set_minor_locator(mpl.ticker.LogLocator(base=10, numticks=15, subs=np.arange(1, 15)*0.2))\n",
    "ax[0][0].grid()\n",
    "\n",
    "for i in range(len(HR_I_models)):\n",
    "    ax[0][0].plot(freqs_model, HR_I_models[i], color='black', alpha=0.1)\n",
    "ax[0][0].errorbar(freqs_obs, HR_I_obs, yerr=HR_sI_obs, color=cmap(0.75), marker='o', linestyle='')\n",
    "\n",
    "# Stokes V/I\n",
    "ax[1][0].set_xlabel('Frequency [GHz]')\n",
    "ax[1][0].set_ylabel('Stokes V/I')\n",
    "ax[1][0].set_ylim(0.001, 0.5)\n",
    "\n",
    "ax[1][0].set_xscale('log')\n",
    "ax[1][0].xaxis.set_major_formatter(mpl.ticker.ScalarFormatter())\n",
    "ax[1][0].xaxis.set_minor_formatter(mpl.ticker.NullFormatter())\n",
    "ax[1][0].yaxis.set_major_formatter(mpl.ticker.FormatStrFormatter('%3.3g'))\n",
    "ax[1][0].yaxis.set_minor_formatter(mpl.ticker.NullFormatter())\n",
    "ax[1][0].xaxis.set_major_locator(mpl.ticker.LogLocator(base=10, numticks=5, subs=[1, 2, 3, 4, 5]))\n",
    "ax[1][0].xaxis.set_minor_locator(mpl.ticker.LogLocator(base=10, numticks=25, subs=np.arange(1, 25)*0.2))\n",
    "ax[1][0].yaxis.set_major_locator(mpl.ticker.MultipleLocator(0.1))\n",
    "ax[1][0].yaxis.set_minor_locator(mpl.ticker.MultipleLocator(0.02))\n",
    "ax[1][0].grid()\n",
    "\n",
    "for i in range(len(HR_V_models)):\n",
    "    ax[1][0].plot(freqs_model, HR_V_models[i]/HR_I_models[i], color='black', alpha=0.1)\n",
    "ax[1][0].errorbar(freqs_obs, HR_V_obs/HR_I_obs, yerr=np.sqrt((HR_sI_obs/HR_I_obs)**2+(HR_sV_obs/HR_V_obs)**2)*np.abs(HR_V_obs/HR_I_obs), \n",
    "    color=cmap(0.75), marker='o', linestyle='')\n",
    "\n",
    "# UX Arietis\n",
    "cmap = mpl.cm.get_cmap('Greens')\n",
    "\n",
    "# Stokes I  \n",
    "ax[0][1].set_xlim(10, 50)\n",
    "ax[0][1].set_ylim(20.01, 90)\n",
    "\n",
    "ax[0][1].set_xscale('log')\n",
    "ax[0][1].set_yscale('log')\n",
    "ax[0][1].xaxis.set_major_formatter(mpl.ticker.FormatStrFormatter('%i'))\n",
    "ax[0][1].xaxis.set_minor_formatter(mpl.ticker.NullFormatter())\n",
    "ax[0][1].yaxis.set_major_formatter(mpl.ticker.FormatStrFormatter('%3.3g'))\n",
    "ax[0][1].yaxis.set_minor_formatter(mpl.ticker.NullFormatter())\n",
    "ax[0][1].xaxis.set_major_locator(mpl.ticker.LogLocator(base=10, numticks=5, subs=[1, 2, 3, 4, 5]))\n",
    "ax[0][1].xaxis.set_minor_locator(mpl.ticker.LogLocator(base=10, numticks=25, subs=np.arange(1, 25)*0.2))\n",
    "ax[0][1].yaxis.set_major_locator(mpl.ticker.LogLocator(base=10, numticks=5, subs=[2, 3, 4, 6, 8]))\n",
    "ax[0][1].yaxis.set_minor_locator(mpl.ticker.LogLocator(base=10, numticks=43, subs=np.arange(2, 45)*0.2))\n",
    "ax[0][1].grid()\n",
    "\n",
    "for i in range(len(UX_I_models)):\n",
    "    ax[0][1].plot(freqs_model, UX_I_models[i], color='black', alpha=0.1)\n",
    "ax[0][1].errorbar(freqs_obs, UX_I_obs, yerr=UX_sI_obs, color=cmap(0.75), marker='o', linestyle='')\n",
    "\n",
    "# Stokes V/I\n",
    "ax[1][1].set_xlabel('Frequency [GHz]')\n",
    "ax[1][1].set_ylim(-0.001, -0.2)\n",
    "\n",
    "ax[1][1].set_xscale('log')\n",
    "ax[1][1].xaxis.set_major_formatter(mpl.ticker.ScalarFormatter())\n",
    "ax[1][1].xaxis.set_minor_formatter(mpl.ticker.NullFormatter())\n",
    "ax[1][1].yaxis.set_major_formatter(mpl.ticker.FormatStrFormatter('%3.3g'))\n",
    "ax[1][1].yaxis.set_minor_formatter(mpl.ticker.NullFormatter())\n",
    "ax[1][1].xaxis.set_major_locator(mpl.ticker.LogLocator(base=10, numticks=5, subs=[1, 2, 3, 4, 5]))\n",
    "ax[1][1].xaxis.set_minor_locator(mpl.ticker.LogLocator(base=10, numticks=25, subs=np.arange(1, 25)*0.2))\n",
    "ax[1][1].yaxis.set_major_locator(mpl.ticker.MultipleLocator(0.05))\n",
    "ax[1][1].yaxis.set_minor_locator(mpl.ticker.MultipleLocator(0.01))\n",
    "ax[1][1].grid()\n",
    "\n",
    "for i in range(len(UX_V_models)):\n",
    "    ax[1][1].plot(freqs_model, UX_V_models[i]/UX_I_models[i], color='black', alpha=0.1)\n",
    "ax[1][1].errorbar(freqs_obs, UX_V_obs/UX_I_obs, yerr=np.sqrt((UX_sI_obs/UX_I_obs)**2+(UX_sV_obs/UX_V_obs)**2)*np.abs(UX_V_obs/UX_I_obs), \n",
    "    marker='o', color=cmap(0.75), linestyle='')\n",
    "\n",
    "# Final setup\n",
    "fig.text(0.25, -0.05, '(a) HR 1099', fontsize=10) \n",
    "fig.text(0.67, -0.05, '(b) UX Arietis', fontsize=10) \n",
    "fig.set_facecolor('white')\n",
    "plt.savefig('../figures/rs-cvn_seds.png', bbox_inches='tight')\n",
    "plt.savefig('../figures/rs-cvn_seds.pdf', bbox_inches='tight')\n",
    "plt.show()"
   ]
  }
 ],
 "metadata": {
  "kernelspec": {
   "display_name": "Python 3.10.2 ('base')",
   "language": "python",
   "name": "python3"
  },
  "language_info": {
   "codemirror_mode": {
    "name": "ipython",
    "version": 3
   },
   "file_extension": ".py",
   "mimetype": "text/x-python",
   "name": "python",
   "nbconvert_exporter": "python",
   "pygments_lexer": "ipython3",
   "version": "3.10.6"
  },
  "orig_nbformat": 4,
  "vscode": {
   "interpreter": {
    "hash": "5cbe4671836038beb9fe799f77b559b51db17203b1eb4ddb0c8c4883751c931a"
   }
  }
 },
 "nbformat": 4,
 "nbformat_minor": 2
}
